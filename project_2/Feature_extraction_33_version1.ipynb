{
  "cells": [
    {
      "cell_type": "code",
      "execution_count": 8,
      "metadata": {
        "id": "WGooX3qfTto2"
      },
      "outputs": [],
      "source": [
        "import pandas as pd\n",
        "import numpy as np\n",
        "import biosppy.signals.ecg as ecg\n",
        "import matplotlib.pyplot as plt\n",
        "import neurokit2 as nk\n",
        "import statistics\n",
        "import math"
      ]
    },
    {
      "cell_type": "code",
      "execution_count": 3,
      "metadata": {
        "id": "EEGi2RMoT0_u"
      },
      "outputs": [],
      "source": [
        "train_x = pd.read_csv(\"X_train.csv\")\n",
        "train_y = pd.read_csv(\"y_train.csv\")\n",
        "test_x = pd.read_csv(\"X_test.csv\")\n",
        "train_signal = train_x.drop('id',axis = 1)\n",
        "test_signal = test_x.drop('id',axis = 1)"
      ]
    },
    {
      "cell_type": "code",
      "execution_count": 4,
      "metadata": {
        "id": "ul2jwzaPXTTl"
      },
      "outputs": [],
      "source": [
        "def get_r_loc(beat):\n",
        "  beat_len = len(beat)\n",
        "  half_index = int(beat_len*0.5)\n",
        "  half = beat[0:half_index]\n",
        "  r = np.where(beat==max(half))[0][0]\n",
        "  return r\n",
        "\n",
        "def get_q_loc(beat,r_loc):\n",
        "#  q_loc = waves['ECG_Q_Peaks']\n",
        "#  na_loc = np.argwhere(np.isnan(q_loc)).reshape(1,-1)[0]\n",
        "#  if (len(na_loc)!=0):\n",
        "#    for na in na_loc:\n",
        "#      r = rpeaks[na]\n",
        "  before_r = beat[(r_loc-35):r_loc]\n",
        "  q = np.where(beat==min(before_r))[0][0]\n",
        "  return q\n",
        "\n",
        "def get_p_loc(beat,q_loc):\n",
        "#  p_loc = waves['ECG_P_Peaks']\n",
        "#  na_loc = np.argwhere(np.isnan(p_loc)).reshape(1,-1)[0]\n",
        "#  if (len(na_loc)!=0):\n",
        "#    for na in na_loc:\n",
        "  p = np.where(beat==max(beat[0:q_loc]))[0][0]\n",
        "  return p\n",
        "\n",
        "def get_s_loc(beat,r_loc):\n",
        "  after_r = beat[r_loc+1:r_loc+30]\n",
        "  s = np.where(beat==min(after_r))[0][0]\n",
        "  return s\n",
        "\n",
        "def get_t_loc(beat,s_loc):\n",
        "  after_s = beat[s_loc+1:]\n",
        "  t = s_loc+np.where(after_s==max(after_s))[0][0]\n",
        "  return t"
      ]
    },
    {
      "cell_type": "code",
      "execution_count": 5,
      "metadata": {
        "id": "rHAm1ZbIBMDs"
      },
      "outputs": [],
      "source": [
        "def get_statistics(lis):\n",
        "  mean = np.mean(lis)\n",
        "  if(len(lis)>=2):\n",
        "    sd = np.std(lis)\n",
        "  else:\n",
        "    sd = 0\n",
        "  median = np.median(lis)\n",
        "  ma = max(lis)\n",
        "  mi = min(lis)\n",
        "  return mean,median,sd,ma,mi"
      ]
    },
    {
      "cell_type": "code",
      "execution_count": 6,
      "metadata": {
        "id": "RBmBKR8-VDNc"
      },
      "outputs": [],
      "source": [
        "def get_interval_and_amplitude(signal,loc1,loc2,averaged_beat,name,beat_num):\n",
        "  interval = []\n",
        "  average_interval = 0\n",
        "  amplitudes1 = []\n",
        "  amplitudes2 = []\n",
        "\n",
        "\n",
        "  #sometimes p peaks appears in the second heartbeat\n",
        "  for i in range(min(len(loc1),len(loc2),beat_num)):\n",
        "    if((not math.isnan(loc1[i])) and (not math.isnan(loc2[i]))):\n",
        "      if(loc1[i]>loc2[i]):\n",
        "        if(i+1<len(loc2)):\n",
        "          interval.append(loc2[i+1]-loc1[i])\n",
        "      else:\n",
        "        interval.append(loc2[i]-loc1[i])\n",
        "      amplitudes1.append(signal[loc1[i]])\n",
        "      amplitudes2.append(signal[loc2[i]])\n",
        "  \n",
        "  if(len(interval) == 0):\n",
        "    r_loc = get_r_loc(averaged_beat)\n",
        "    if(name == 'pr_interval'):\n",
        "      q_loc = get_p_loc(averaged_beat,r_loc)\n",
        "      p_loc = get_p_loc(averaged_beat,q_loc)\n",
        "      average_amplitude1 = averaged_beat[p_loc]\n",
        "      average_amplitude2 = averaged_beat[r_loc]\n",
        "      average_interval == r_loc-p_loc\n",
        "    elif(name == 'st_interval'):\n",
        "      s_loc = get_s_loc(averaged_beat,r_loc)\n",
        "      t_loc = get_t_loc(averaged_beat,s_loc)\n",
        "      average_amplitude1 = averaged_beat[s_loc]\n",
        "      average_amplitude2 = averaged_beat[t_loc]\n",
        "      average_interval = t_loc-s_loc\n",
        "    elif(name == 'qrs_duration'):\n",
        "      s_loc = get_s_loc(averaged_beat,r_loc)\n",
        "      q_loc = get_q_loc(averaged_beat,r_loc)\n",
        "      average_amplitude1 = averaged_beat[q_loc]\n",
        "      average_amplitude2 = averaged_beat[r_loc]\n",
        "      average_interval = s_loc - q_loc\n",
        "  else:\n",
        "    average_interval = np.mean(interval)\n",
        "    average_amplitude1 = np.mean(amplitudes1)\n",
        "    average_amplitude2 = np.mean(amplitudes2)\n",
        "  return average_interval,average_amplitude1,average_amplitude2\n"
      ]
    },
    {
      "cell_type": "code",
      "execution_count": null,
      "metadata": {
        "id": "Zj-HSn6zHPdJ"
      },
      "outputs": [],
      "source": [
        "all_features = []\n",
        "for i in range(train_signal.shape[0]):\n",
        "#for i in range(5):\n",
        "  print(i)\n",
        "  features = []\n",
        "  averaged_beat = []\n",
        "  sd_beat = []\n",
        "  signal = np.array(train_signal.iloc[i].dropna())\n",
        "  ts, filtered, rpeaks, templates_ts, templates, heart_rate_ts, heart_rate = ecg.ecg(signal, sampling_rate=300, show=False)\n",
        "  beat_num = templates.shape[0]\n",
        "  beat_len = templates.shape[1]\n",
        "\n",
        "  if(beat_num==0):\n",
        "    print(i,': no heartbeat is extracted from this signal!')\n",
        "    continue\n",
        "  else:\n",
        "    averaged_beat = np.mean(templates, axis = 0)\n",
        "    sd_beat = np.std(templates,axis = 0) \n",
        "    median_beat = np.median(templates, axis = 0)\n",
        "\n",
        "    #basic features about signal, beat\n",
        "    signal_mean,signal_median,signal_sd,signal_max,signal_min = get_statistics(signal)\n",
        "    sd_beat_mean,sd_beat_median,sd_beat_sd,sd_beat_max,sd_beat_min = get_statistics(sd_beat)\n",
        "    median_beat_mean,median_beat_median,median_beat_sd,median_beat_max,median_beat_min = get_statistics(median_beat)\n",
        "\n",
        "    _, waves = nk.ecg_delineate(signal, rpeaks, sampling_rate=300, method=\"dwt\")\n",
        "    #find the peak locations\n",
        "    r_loc = rpeaks\n",
        "    q_loc = waves['ECG_Q_Peaks']\n",
        "    p_loc = waves['ECG_P_Peaks']\n",
        "    s_loc = waves['ECG_S_Peaks']\n",
        "    t_loc = waves['ECG_T_Peaks']\n",
        "\n",
        "    #get intervals and amplitudes\n",
        "    #for rr_interval and r amplitudes, extra info is extracted\n",
        "    rr_interval_list = np.diff(r_loc)\n",
        "    rr_interval_mean,rr_interval_median,rr_interval_sd,rr_interval_max,rr_interval_min = get_statistics(rr_interval_list)\n",
        "    r_amplitude_list = signal[r_loc]\n",
        "    r_amplitude_mean,r_amplitude_median,r_amplitude_sd,r_amplitude_max,r_amplitude_min = get_statistics(r_amplitude_list)\n",
        "    pr_interval,p_amplitude,r_amplitude = get_interval_and_amplitude(signal,p_loc,r_loc,averaged_beat,'pr_interval',beat_num)\n",
        "    st_interval,s_amplitude,t_amplitude = get_interval_and_amplitude(signal,s_loc,t_loc,averaged_beat,'st_interval',beat_num)\n",
        "    qrs_duration,q_amplitude,s_amplitude = get_interval_and_amplitude(signal,q_loc,s_loc,averaged_beat,'qrs_duration',beat_num)\n",
        "\n",
        "    features = [\n",
        "                signal_mean,signal_median,signal_sd,signal_max,signal_min,\n",
        "                sd_beat_mean,sd_beat_median,sd_beat_sd,sd_beat_max,sd_beat_min,\n",
        "                median_beat_mean,median_beat_median,median_beat_sd,median_beat_max,median_beat_min,\n",
        "                rr_interval_mean,rr_interval_median,rr_interval_sd,rr_interval_max,rr_interval_min,\n",
        "                r_amplitude_mean,r_amplitude_median,r_amplitude_sd,r_amplitude_max,r_amplitude_min,\n",
        "                pr_interval,p_amplitude,r_amplitude,st_interval,s_amplitude,t_amplitude,qrs_duration,q_amplitude]\n",
        "    all_features.append(features)"
      ]
    },
    {
      "cell_type": "code",
      "execution_count": null,
      "metadata": {
        "id": "ksBeoCbaT4tv"
      },
      "outputs": [],
      "source": [
        "all_features_test = []\n",
        "for i in range(test_signal.shape[0]):\n",
        "#for i in range(5):\n",
        "  print(i)\n",
        "  features = []\n",
        "  averaged_beat = []\n",
        "  sd_beat = []\n",
        "  signal = np.array(test_signal.iloc[i].dropna())\n",
        "  ts, filtered, rpeaks, templates_ts, templates, heart_rate_ts, heart_rate = ecg.ecg(signal, sampling_rate=300, show=False)\n",
        "  beat_num = templates.shape[0]\n",
        "  beat_len = templates.shape[1]\n",
        "\n",
        "  if(beat_num==0):\n",
        "    print(i,': no heartbeat is extracted from this signal!')\n",
        "    continue\n",
        "  else:\n",
        "    averaged_beat = np.mean(templates, axis = 0)\n",
        "    sd_beat = np.std(templates,axis = 0) \n",
        "    median_beat = np.median(templates, axis = 0)\n",
        "\n",
        "    #basic features about signal, beat\n",
        "    signal_mean,signal_median,signal_sd,signal_max,signal_min = get_statistics(signal)\n",
        "    sd_beat_mean,sd_beat_median,sd_beat_sd,sd_beat_max,sd_beat_min = get_statistics(sd_beat)\n",
        "    median_beat_mean,median_beat_median,median_beat_sd,median_beat_max,median_beat_min = get_statistics(median_beat)\n",
        "\n",
        "    _, waves = nk.ecg_delineate(signal, rpeaks, sampling_rate=300, method=\"dwt\")\n",
        "    #find the peak locations\n",
        "    r_loc = rpeaks\n",
        "    q_loc = waves['ECG_Q_Peaks']\n",
        "    p_loc = waves['ECG_P_Peaks']\n",
        "    s_loc = waves['ECG_S_Peaks']\n",
        "    t_loc = waves['ECG_T_Peaks']\n",
        "\n",
        "    #get intervals and amplitudes\n",
        "    #for rr_interval and r amplitudes, extra info is extracted\n",
        "    rr_interval_list = np.diff(r_loc)\n",
        "    rr_interval_mean,rr_interval_median,rr_interval_sd,rr_interval_max,rr_interval_min = get_statistics(rr_interval_list)\n",
        "    r_amplitude_list = signal[r_loc]\n",
        "    r_amplitude_mean,r_amplitude_median,r_amplitude_sd,r_amplitude_max,r_amplitude_min = get_statistics(r_amplitude_list)\n",
        "    pr_interval,p_amplitude,r_amplitude = get_interval_and_amplitude(signal,p_loc,r_loc,averaged_beat,'pr_interval',beat_num)\n",
        "    st_interval,s_amplitude,t_amplitude = get_interval_and_amplitude(signal,s_loc,t_loc,averaged_beat,'st_interval',beat_num)\n",
        "    qrs_duration,q_amplitude,s_amplitude = get_interval_and_amplitude(signal,q_loc,s_loc,averaged_beat,'qrs_duration',beat_num)\n",
        "\n",
        "    features = [\n",
        "                signal_mean,signal_median,signal_sd,signal_max,signal_min,\n",
        "                sd_beat_mean,sd_beat_median,sd_beat_sd,sd_beat_max,sd_beat_min,\n",
        "                median_beat_mean,median_beat_median,median_beat_sd,median_beat_max,median_beat_min,\n",
        "                rr_interval_mean,rr_interval_median,rr_interval_sd,rr_interval_max,rr_interval_min,\n",
        "                r_amplitude_mean,r_amplitude_median,r_amplitude_sd,r_amplitude_max,r_amplitude_min,\n",
        "                pr_interval,p_amplitude,r_amplitude,st_interval,s_amplitude,t_amplitude,qrs_duration,q_amplitude]\n",
        "    all_features_test.append(features)"
      ]
    },
    {
      "cell_type": "code",
      "execution_count": 87,
      "metadata": {
        "colab": {
          "base_uri": "https://localhost:8080/",
          "height": 439
        },
        "id": "TBb3g_TUChch",
        "outputId": "40b61fe5-8033-4ea6-d6b5-cc47843b8973"
      },
      "outputs": [
        {
          "data": {
            "text/html": [
              "<div>\n",
              "<style scoped>\n",
              "    .dataframe tbody tr th:only-of-type {\n",
              "        vertical-align: middle;\n",
              "    }\n",
              "\n",
              "    .dataframe tbody tr th {\n",
              "        vertical-align: top;\n",
              "    }\n",
              "\n",
              "    .dataframe thead th {\n",
              "        text-align: right;\n",
              "    }\n",
              "</style>\n",
              "<table border=\"1\" class=\"dataframe\">\n",
              "  <thead>\n",
              "    <tr style=\"text-align: right;\">\n",
              "      <th></th>\n",
              "      <th>beat_num</th>\n",
              "      <th>beat_len</th>\n",
              "      <th>signal_mean</th>\n",
              "      <th>signal_median</th>\n",
              "      <th>signal_sd</th>\n",
              "      <th>signal_max</th>\n",
              "      <th>signal_min</th>\n",
              "      <th>sd_beat_mean</th>\n",
              "      <th>sd_beat_median</th>\n",
              "      <th>sd_beat_sd</th>\n",
              "      <th>sd_beat_max</th>\n",
              "      <th>sd_beat_min</th>\n",
              "      <th>median_beat_mean</th>\n",
              "      <th>median_beat_median</th>\n",
              "      <th>median_beat_sd</th>\n",
              "      <th>median_beat_max</th>\n",
              "      <th>median_beat_min</th>\n",
              "      <th>rr_interval_mean</th>\n",
              "      <th>rr_interval_median</th>\n",
              "      <th>rr_interval_sd</th>\n",
              "      <th>rr_interval_max</th>\n",
              "      <th>rr_interval_min</th>\n",
              "      <th>r_amplitude_mean</th>\n",
              "      <th>r_amplitude_median</th>\n",
              "      <th>r_amplitude_sd</th>\n",
              "      <th>r_amplitude_max</th>\n",
              "      <th>r_amplitude_min</th>\n",
              "      <th>pr_interval</th>\n",
              "      <th>p_amplitude</th>\n",
              "      <th>r_amplitude</th>\n",
              "      <th>st_interval</th>\n",
              "      <th>s_amplitude</th>\n",
              "      <th>t_amplitude</th>\n",
              "      <th>qrs_duration</th>\n",
              "      <th>q_amplitude</th>\n",
              "    </tr>\n",
              "  </thead>\n",
              "  <tbody>\n",
              "    <tr>\n",
              "      <th>0</th>\n",
              "      <td>66</td>\n",
              "      <td>180</td>\n",
              "      <td>9.252964</td>\n",
              "      <td>-22.0</td>\n",
              "      <td>109.080337</td>\n",
              "      <td>738.0</td>\n",
              "      <td>-236.0</td>\n",
              "      <td>21.177366</td>\n",
              "      <td>18.301699</td>\n",
              "      <td>10.740427</td>\n",
              "      <td>66.877682</td>\n",
              "      <td>10.911437</td>\n",
              "      <td>0.935584</td>\n",
              "      <td>-12.120123</td>\n",
              "      <td>83.540489</td>\n",
              "      <td>449.971274</td>\n",
              "      <td>-100.446984</td>\n",
              "      <td>244.769231</td>\n",
              "      <td>249.0</td>\n",
              "      <td>19.495774</td>\n",
              "      <td>256</td>\n",
              "      <td>98</td>\n",
              "      <td>502.257576</td>\n",
              "      <td>494.0</td>\n",
              "      <td>74.615644</td>\n",
              "      <td>738.0</td>\n",
              "      <td>340.0</td>\n",
              "      <td>46.757576</td>\n",
              "      <td>44.227273</td>\n",
              "      <td>502.257576</td>\n",
              "      <td>61.303030</td>\n",
              "      <td>-82.772727</td>\n",
              "      <td>235.969697</td>\n",
              "      <td>35.439394</td>\n",
              "      <td>-71.530303</td>\n",
              "    </tr>\n",
              "    <tr>\n",
              "      <th>1</th>\n",
              "      <td>36</td>\n",
              "      <td>180</td>\n",
              "      <td>3.099435</td>\n",
              "      <td>-5.0</td>\n",
              "      <td>122.440336</td>\n",
              "      <td>746.0</td>\n",
              "      <td>-399.0</td>\n",
              "      <td>20.502922</td>\n",
              "      <td>18.827493</td>\n",
              "      <td>6.240304</td>\n",
              "      <td>44.997328</td>\n",
              "      <td>13.176285</td>\n",
              "      <td>-0.642542</td>\n",
              "      <td>-1.757166</td>\n",
              "      <td>51.399757</td>\n",
              "      <td>224.865870</td>\n",
              "      <td>-170.409423</td>\n",
              "      <td>236.514286</td>\n",
              "      <td>238.0</td>\n",
              "      <td>13.052359</td>\n",
              "      <td>259</td>\n",
              "      <td>208</td>\n",
              "      <td>230.638889</td>\n",
              "      <td>218.0</td>\n",
              "      <td>131.283229</td>\n",
              "      <td>746.0</td>\n",
              "      <td>17.0</td>\n",
              "      <td>51.428571</td>\n",
              "      <td>25.028571</td>\n",
              "      <td>222.000000</td>\n",
              "      <td>56.555556</td>\n",
              "      <td>-187.885714</td>\n",
              "      <td>132.666667</td>\n",
              "      <td>23.657143</td>\n",
              "      <td>-59.457143</td>\n",
              "    </tr>\n",
              "    <tr>\n",
              "      <th>2</th>\n",
              "      <td>30</td>\n",
              "      <td>180</td>\n",
              "      <td>16.272974</td>\n",
              "      <td>2.0</td>\n",
              "      <td>200.377573</td>\n",
              "      <td>1588.0</td>\n",
              "      <td>-976.0</td>\n",
              "      <td>13.761332</td>\n",
              "      <td>9.683161</td>\n",
              "      <td>11.609992</td>\n",
              "      <td>78.700793</td>\n",
              "      <td>4.752194</td>\n",
              "      <td>3.523563</td>\n",
              "      <td>1.209975</td>\n",
              "      <td>150.860663</td>\n",
              "      <td>832.075938</td>\n",
              "      <td>-447.763187</td>\n",
              "      <td>270.206897</td>\n",
              "      <td>272.0</td>\n",
              "      <td>10.554879</td>\n",
              "      <td>297</td>\n",
              "      <td>251</td>\n",
              "      <td>972.633333</td>\n",
              "      <td>958.5</td>\n",
              "      <td>153.500594</td>\n",
              "      <td>1587.0</td>\n",
              "      <td>631.0</td>\n",
              "      <td>42.428571</td>\n",
              "      <td>99.178571</td>\n",
              "      <td>962.892857</td>\n",
              "      <td>72.733333</td>\n",
              "      <td>-350.296296</td>\n",
              "      <td>87.300000</td>\n",
              "      <td>23.777778</td>\n",
              "      <td>-5.851852</td>\n",
              "    </tr>\n",
              "    <tr>\n",
              "      <th>3</th>\n",
              "      <td>65</td>\n",
              "      <td>180</td>\n",
              "      <td>-25.972687</td>\n",
              "      <td>-39.0</td>\n",
              "      <td>212.318462</td>\n",
              "      <td>864.0</td>\n",
              "      <td>-874.0</td>\n",
              "      <td>62.791023</td>\n",
              "      <td>31.327965</td>\n",
              "      <td>81.638220</td>\n",
              "      <td>402.409376</td>\n",
              "      <td>18.323697</td>\n",
              "      <td>-5.203867</td>\n",
              "      <td>-10.760983</td>\n",
              "      <td>144.575063</td>\n",
              "      <td>640.930598</td>\n",
              "      <td>-570.913514</td>\n",
              "      <td>122.187500</td>\n",
              "      <td>115.0</td>\n",
              "      <td>21.197638</td>\n",
              "      <td>204</td>\n",
              "      <td>101</td>\n",
              "      <td>579.230769</td>\n",
              "      <td>567.0</td>\n",
              "      <td>97.353404</td>\n",
              "      <td>864.0</td>\n",
              "      <td>356.0</td>\n",
              "      <td>35.565217</td>\n",
              "      <td>34.782609</td>\n",
              "      <td>585.434783</td>\n",
              "      <td>20.200000</td>\n",
              "      <td>-628.000000</td>\n",
              "      <td>97.200000</td>\n",
              "      <td>22.828125</td>\n",
              "      <td>-122.046875</td>\n",
              "    </tr>\n",
              "    <tr>\n",
              "      <th>4</th>\n",
              "      <td>45</td>\n",
              "      <td>180</td>\n",
              "      <td>-21.468062</td>\n",
              "      <td>-21.0</td>\n",
              "      <td>156.702879</td>\n",
              "      <td>679.0</td>\n",
              "      <td>-737.0</td>\n",
              "      <td>23.462408</td>\n",
              "      <td>19.200563</td>\n",
              "      <td>15.391773</td>\n",
              "      <td>89.128902</td>\n",
              "      <td>10.574557</td>\n",
              "      <td>-0.894031</td>\n",
              "      <td>-5.552034</td>\n",
              "      <td>87.704768</td>\n",
              "      <td>376.314132</td>\n",
              "      <td>-412.676944</td>\n",
              "      <td>179.636364</td>\n",
              "      <td>179.5</td>\n",
              "      <td>23.033662</td>\n",
              "      <td>221</td>\n",
              "      <td>66</td>\n",
              "      <td>267.822222</td>\n",
              "      <td>258.0</td>\n",
              "      <td>129.661660</td>\n",
              "      <td>679.0</td>\n",
              "      <td>-29.0</td>\n",
              "      <td>40.577778</td>\n",
              "      <td>37.933333</td>\n",
              "      <td>267.822222</td>\n",
              "      <td>51.844444</td>\n",
              "      <td>-514.818182</td>\n",
              "      <td>183.177778</td>\n",
              "      <td>18.363636</td>\n",
              "      <td>-139.954545</td>\n",
              "    </tr>\n",
              "    <tr>\n",
              "      <th>...</th>\n",
              "      <td>...</td>\n",
              "      <td>...</td>\n",
              "      <td>...</td>\n",
              "      <td>...</td>\n",
              "      <td>...</td>\n",
              "      <td>...</td>\n",
              "      <td>...</td>\n",
              "      <td>...</td>\n",
              "      <td>...</td>\n",
              "      <td>...</td>\n",
              "      <td>...</td>\n",
              "      <td>...</td>\n",
              "      <td>...</td>\n",
              "      <td>...</td>\n",
              "      <td>...</td>\n",
              "      <td>...</td>\n",
              "      <td>...</td>\n",
              "      <td>...</td>\n",
              "      <td>...</td>\n",
              "      <td>...</td>\n",
              "      <td>...</td>\n",
              "      <td>...</td>\n",
              "      <td>...</td>\n",
              "      <td>...</td>\n",
              "      <td>...</td>\n",
              "      <td>...</td>\n",
              "      <td>...</td>\n",
              "      <td>...</td>\n",
              "      <td>...</td>\n",
              "      <td>...</td>\n",
              "      <td>...</td>\n",
              "      <td>...</td>\n",
              "      <td>...</td>\n",
              "      <td>...</td>\n",
              "      <td>...</td>\n",
              "    </tr>\n",
              "    <tr>\n",
              "      <th>5112</th>\n",
              "      <td>23</td>\n",
              "      <td>180</td>\n",
              "      <td>-17.040447</td>\n",
              "      <td>-15.0</td>\n",
              "      <td>350.137102</td>\n",
              "      <td>1368.0</td>\n",
              "      <td>-1922.0</td>\n",
              "      <td>136.951350</td>\n",
              "      <td>131.444310</td>\n",
              "      <td>36.052856</td>\n",
              "      <td>250.974658</td>\n",
              "      <td>59.805857</td>\n",
              "      <td>4.473283</td>\n",
              "      <td>-4.586379</td>\n",
              "      <td>132.259612</td>\n",
              "      <td>687.452095</td>\n",
              "      <td>-337.590717</td>\n",
              "      <td>218.636364</td>\n",
              "      <td>250.5</td>\n",
              "      <td>62.503488</td>\n",
              "      <td>311</td>\n",
              "      <td>78</td>\n",
              "      <td>671.434783</td>\n",
              "      <td>781.0</td>\n",
              "      <td>496.729375</td>\n",
              "      <td>1368.0</td>\n",
              "      <td>-963.0</td>\n",
              "      <td>56.363636</td>\n",
              "      <td>330.545455</td>\n",
              "      <td>699.500000</td>\n",
              "      <td>61.391304</td>\n",
              "      <td>-374.826087</td>\n",
              "      <td>278.521739</td>\n",
              "      <td>27.739130</td>\n",
              "      <td>-280.869565</td>\n",
              "    </tr>\n",
              "    <tr>\n",
              "      <th>5113</th>\n",
              "      <td>32</td>\n",
              "      <td>180</td>\n",
              "      <td>5.511492</td>\n",
              "      <td>5.0</td>\n",
              "      <td>78.615996</td>\n",
              "      <td>515.0</td>\n",
              "      <td>-188.0</td>\n",
              "      <td>11.730159</td>\n",
              "      <td>10.151575</td>\n",
              "      <td>5.217123</td>\n",
              "      <td>33.875287</td>\n",
              "      <td>6.581330</td>\n",
              "      <td>-0.298855</td>\n",
              "      <td>-3.211570</td>\n",
              "      <td>69.096089</td>\n",
              "      <td>387.158586</td>\n",
              "      <td>-100.042772</td>\n",
              "      <td>259.000000</td>\n",
              "      <td>259.0</td>\n",
              "      <td>3.680813</td>\n",
              "      <td>275</td>\n",
              "      <td>252</td>\n",
              "      <td>439.062500</td>\n",
              "      <td>444.0</td>\n",
              "      <td>51.700422</td>\n",
              "      <td>515.0</td>\n",
              "      <td>209.0</td>\n",
              "      <td>42.937500</td>\n",
              "      <td>61.156250</td>\n",
              "      <td>439.062500</td>\n",
              "      <td>78.562500</td>\n",
              "      <td>-74.156250</td>\n",
              "      <td>1.906250</td>\n",
              "      <td>31.375000</td>\n",
              "      <td>-39.437500</td>\n",
              "    </tr>\n",
              "    <tr>\n",
              "      <th>5114</th>\n",
              "      <td>34</td>\n",
              "      <td>180</td>\n",
              "      <td>-0.380841</td>\n",
              "      <td>-28.0</td>\n",
              "      <td>185.522124</td>\n",
              "      <td>976.0</td>\n",
              "      <td>-801.0</td>\n",
              "      <td>21.511856</td>\n",
              "      <td>17.995853</td>\n",
              "      <td>11.884665</td>\n",
              "      <td>81.833907</td>\n",
              "      <td>8.858916</td>\n",
              "      <td>1.372143</td>\n",
              "      <td>-9.815221</td>\n",
              "      <td>135.486376</td>\n",
              "      <td>729.603218</td>\n",
              "      <td>-354.018860</td>\n",
              "      <td>237.212121</td>\n",
              "      <td>237.0</td>\n",
              "      <td>28.751556</td>\n",
              "      <td>298</td>\n",
              "      <td>201</td>\n",
              "      <td>745.558824</td>\n",
              "      <td>746.5</td>\n",
              "      <td>114.705811</td>\n",
              "      <td>976.0</td>\n",
              "      <td>428.0</td>\n",
              "      <td>41.969697</td>\n",
              "      <td>29.545455</td>\n",
              "      <td>749.727273</td>\n",
              "      <td>65.529412</td>\n",
              "      <td>-341.129032</td>\n",
              "      <td>276.294118</td>\n",
              "      <td>19.322581</td>\n",
              "      <td>-123.645161</td>\n",
              "    </tr>\n",
              "    <tr>\n",
              "      <th>5115</th>\n",
              "      <td>32</td>\n",
              "      <td>180</td>\n",
              "      <td>7.740578</td>\n",
              "      <td>-6.0</td>\n",
              "      <td>70.454310</td>\n",
              "      <td>397.0</td>\n",
              "      <td>-243.0</td>\n",
              "      <td>9.461335</td>\n",
              "      <td>7.737418</td>\n",
              "      <td>4.894605</td>\n",
              "      <td>32.020797</td>\n",
              "      <td>4.882776</td>\n",
              "      <td>0.784093</td>\n",
              "      <td>-3.034009</td>\n",
              "      <td>52.253910</td>\n",
              "      <td>269.198939</td>\n",
              "      <td>-117.802376</td>\n",
              "      <td>254.483871</td>\n",
              "      <td>253.0</td>\n",
              "      <td>8.389206</td>\n",
              "      <td>269</td>\n",
              "      <td>238</td>\n",
              "      <td>315.875000</td>\n",
              "      <td>316.5</td>\n",
              "      <td>41.961850</td>\n",
              "      <td>397.0</td>\n",
              "      <td>201.0</td>\n",
              "      <td>54.093750</td>\n",
              "      <td>4.093750</td>\n",
              "      <td>315.875000</td>\n",
              "      <td>70.625000</td>\n",
              "      <td>-72.233333</td>\n",
              "      <td>109.562500</td>\n",
              "      <td>33.000000</td>\n",
              "      <td>-46.200000</td>\n",
              "    </tr>\n",
              "    <tr>\n",
              "      <th>5116</th>\n",
              "      <td>47</td>\n",
              "      <td>180</td>\n",
              "      <td>-12.096895</td>\n",
              "      <td>-7.0</td>\n",
              "      <td>127.238668</td>\n",
              "      <td>503.0</td>\n",
              "      <td>-731.0</td>\n",
              "      <td>29.296366</td>\n",
              "      <td>25.999582</td>\n",
              "      <td>11.194242</td>\n",
              "      <td>82.322222</td>\n",
              "      <td>17.305301</td>\n",
              "      <td>-0.718846</td>\n",
              "      <td>2.889932</td>\n",
              "      <td>83.494153</td>\n",
              "      <td>286.034300</td>\n",
              "      <td>-436.320814</td>\n",
              "      <td>177.500000</td>\n",
              "      <td>176.0</td>\n",
              "      <td>10.637812</td>\n",
              "      <td>203</td>\n",
              "      <td>160</td>\n",
              "      <td>211.893617</td>\n",
              "      <td>218.0</td>\n",
              "      <td>90.929768</td>\n",
              "      <td>503.0</td>\n",
              "      <td>20.0</td>\n",
              "      <td>43.276596</td>\n",
              "      <td>44.808511</td>\n",
              "      <td>211.893617</td>\n",
              "      <td>42.106383</td>\n",
              "      <td>-482.000000</td>\n",
              "      <td>119.531915</td>\n",
              "      <td>25.382979</td>\n",
              "      <td>-72.510638</td>\n",
              "    </tr>\n",
              "  </tbody>\n",
              "</table>\n",
              "<p>5117 rows × 35 columns</p>\n",
              "</div>"
            ],
            "text/plain": [
              "      beat_num  beat_len  signal_mean  ...  t_amplitude  qrs_duration  q_amplitude\n",
              "0           66       180     9.252964  ...   235.969697     35.439394   -71.530303\n",
              "1           36       180     3.099435  ...   132.666667     23.657143   -59.457143\n",
              "2           30       180    16.272974  ...    87.300000     23.777778    -5.851852\n",
              "3           65       180   -25.972687  ...    97.200000     22.828125  -122.046875\n",
              "4           45       180   -21.468062  ...   183.177778     18.363636  -139.954545\n",
              "...        ...       ...          ...  ...          ...           ...          ...\n",
              "5112        23       180   -17.040447  ...   278.521739     27.739130  -280.869565\n",
              "5113        32       180     5.511492  ...     1.906250     31.375000   -39.437500\n",
              "5114        34       180    -0.380841  ...   276.294118     19.322581  -123.645161\n",
              "5115        32       180     7.740578  ...   109.562500     33.000000   -46.200000\n",
              "5116        47       180   -12.096895  ...   119.531915     25.382979   -72.510638\n",
              "\n",
              "[5117 rows x 35 columns]"
            ]
          },
          "execution_count": 87,
          "metadata": {},
          "output_type": "execute_result"
        }
      ],
      "source": [
        "col_names = [\n",
        "              \"signal_mean\",\"signal_median\",\"signal_sd\",\"signal_max\",\"signal_min\",\n",
        "              \"sd_beat_mean\",\"sd_beat_median\",\"sd_beat_sd\",\"sd_beat_max\",\"sd_beat_min\",\n",
        "              \"median_beat_mean\",\"median_beat_median\",\"median_beat_sd\",\"median_beat_max\",\"median_beat_min\",\n",
        "              \"rr_interval_mean\",\"rr_interval_median\",\"rr_interval_sd\",\"rr_interval_max\",\"rr_interval_min\",\n",
        "              \"r_amplitude_mean\",\"r_amplitude_median\",\"r_amplitude_sd\",\"r_amplitude_max\",\"r_amplitude_min\",\n",
        "             \"pr_interval\",\"p_amplitude\",\"r_amplitude\",\"st_interval\",\"s_amplitude\",\"t_amplitude\",\"qrs_duration\",\"q_amplitude\"]\n",
        "feature_df = pd.DataFrame(all_features,columns=col_names)\n",
        "feature_df_test = pd.DataFrame(all_features_test,columns=col_names)"
      ]
    },
    {
      "cell_type": "code",
      "execution_count": 194,
      "metadata": {
        "colab": {
          "base_uri": "https://localhost:8080/",
          "height": 279
        },
        "id": "t9vlcCBJB7zf",
        "outputId": "41d84591-4115-4120-e5c3-72ad22e8b38e"
      },
      "outputs": [
        {
          "data": {
            "image/png": "[encoded data removed]",
            "text/plain": [
              "<Figure size 432x288 with 1 Axes>"
            ]
          },
          "metadata": {
            "needs_background": "light"
          },
          "output_type": "display_data"
        }
      ],
      "source": [
        "# the histogram of the data\n",
        "n, bins, patches = plt.hist(feature_df['r_amplitude_mean'], 100, density=True, facecolor='g', alpha=0.75)\n",
        "\n",
        "plt.xlabel('Smarts')\n",
        "plt.ylabel('Probability')\n",
        "plt.grid(True)\n",
        "plt.show()"
      ]
    },
    {
      "cell_type": "code",
      "execution_count": null,
      "metadata": {
        "id": "0epGY2APDCDa"
      },
      "outputs": [],
      "source": [
        "train_feature_filled = feature_df.fillna(feature_df.median())\n",
        "train_feature_filled.to_csv(\"gdrive/My Drive/aml_project2/data/X_train_extracted.csv\")\n",
        "test_feature_filled = feature_df_test.fillna(feature_df_test.median())\n",
        "test_feature_filled.to_csv(\"gdrive/My Drive/aml_project2/data/X_test_extracted.csv\")"
      ]
    },
    {
      "cell_type": "markdown",
      "metadata": {
        "id": "SAKyjFpyfTAX"
      },
      "source": [
        "# Model Training"
      ]
    },
    {
      "cell_type": "code",
      "execution_count": 169,
      "metadata": {
        "id": "ZVTZ3KRIm8hf"
      },
      "outputs": [],
      "source": [
        "from sklearn.ensemble import AdaBoostClassifier,GradientBoostingClassifier,RandomForestClassifier\n",
        "from sklearn.metrics import f1_score\n",
        "from sklearn.model_selection import KFold\n",
        "from sklearn.metrics import plot_confusion_matrix\n",
        "from sklearn.preprocessing import StandardScaler\n",
        "from sklearn.svm import SVC"
      ]
    },
    {
      "cell_type": "code",
      "execution_count": 175,
      "metadata": {
        "id": "NsWoQRWaft29"
      },
      "outputs": [],
      "source": [
        "y_select = np.array(train_y.drop(\"id\",axis = 1))\n",
        "x_select = np.array(train_feature_filled)\n",
        "x_test_select = np.array(test_feature_filled)"
      ]
    },
    {
      "cell_type": "code",
      "execution_count": 176,
      "metadata": {
        "colab": {
          "base_uri": "https://localhost:8080/",
          "height": 1000
        },
        "id": "E3r5ucoXfVSu",
        "outputId": "59144ba9-7a91-4756-93f4-5b36dcd9d8e9"
      },
      "outputs": [
        {
          "name": "stderr",
          "output_type": "stream",
          "text": [
            "/usr/local/lib/python3.7/dist-packages/sklearn/ensemble/_gb.py:494: DataConversionWarning: A column-vector y was passed when a 1d array was expected. Please change the shape of y to (n_samples, ), for example using ravel().\n",
            "  y = column_or_1d(y, warn=True)\n",
            "/usr/local/lib/python3.7/dist-packages/sklearn/utils/deprecation.py:87: FutureWarning: Function plot_confusion_matrix is deprecated; Function `plot_confusion_matrix` is deprecated in 1.0 and will be removed in 1.2. Use one of the class methods: ConfusionMatrixDisplay.from_predictions or ConfusionMatrixDisplay.from_estimator.\n",
            "  warnings.warn(msg, category=FutureWarning)\n"
          ]
        },
        {
          "data": {
            "image/png": "[encoded data removed]",
            "text/plain": [
              "<Figure size 432x288 with 2 Axes>"
            ]
          },
          "metadata": {
            "needs_background": "light"
          },
          "output_type": "display_data"
        },
        {
          "name": "stdout",
          "output_type": "stream",
          "text": [
            "score:  0.7822265625\n"
          ]
        },
        {
          "name": "stderr",
          "output_type": "stream",
          "text": [
            "/usr/local/lib/python3.7/dist-packages/sklearn/ensemble/_gb.py:494: DataConversionWarning: A column-vector y was passed when a 1d array was expected. Please change the shape of y to (n_samples, ), for example using ravel().\n",
            "  y = column_or_1d(y, warn=True)\n",
            "/usr/local/lib/python3.7/dist-packages/sklearn/utils/deprecation.py:87: FutureWarning: Function plot_confusion_matrix is deprecated; Function `plot_confusion_matrix` is deprecated in 1.0 and will be removed in 1.2. Use one of the class methods: ConfusionMatrixDisplay.from_predictions or ConfusionMatrixDisplay.from_estimator.\n",
            "  warnings.warn(msg, category=FutureWarning)\n"
          ]
        },
        {
          "data": {
            "image/png": "[encoded data removed]",
            "text/plain": [
              "<Figure size 432x288 with 2 Axes>"
            ]
          },
          "metadata": {
            "needs_background": "light"
          },
          "output_type": "display_data"
        },
        {
          "name": "stdout",
          "output_type": "stream",
          "text": [
            "score:  0.791015625\n"
          ]
        },
        {
          "name": "stderr",
          "output_type": "stream",
          "text": [
            "/usr/local/lib/python3.7/dist-packages/sklearn/ensemble/_gb.py:494: DataConversionWarning: A column-vector y was passed when a 1d array was expected. Please change the shape of y to (n_samples, ), for example using ravel().\n",
            "  y = column_or_1d(y, warn=True)\n",
            "/usr/local/lib/python3.7/dist-packages/sklearn/utils/deprecation.py:87: FutureWarning: Function plot_confusion_matrix is deprecated; Function `plot_confusion_matrix` is deprecated in 1.0 and will be removed in 1.2. Use one of the class methods: ConfusionMatrixDisplay.from_predictions or ConfusionMatrixDisplay.from_estimator.\n",
            "  warnings.warn(msg, category=FutureWarning)\n"
          ]
        },
        {
          "data": {
            "image/png": "[encoded data removed]",
            "text/plain": [
              "<Figure size 432x288 with 2 Axes>"
            ]
          },
          "metadata": {
            "needs_background": "light"
          },
          "output_type": "display_data"
        },
        {
          "name": "stdout",
          "output_type": "stream",
          "text": [
            "score:  0.7761485826001955\n"
          ]
        },
        {
          "name": "stderr",
          "output_type": "stream",
          "text": [
            "/usr/local/lib/python3.7/dist-packages/sklearn/ensemble/_gb.py:494: DataConversionWarning: A column-vector y was passed when a 1d array was expected. Please change the shape of y to (n_samples, ), for example using ravel().\n",
            "  y = column_or_1d(y, warn=True)\n",
            "/usr/local/lib/python3.7/dist-packages/sklearn/utils/deprecation.py:87: FutureWarning: Function plot_confusion_matrix is deprecated; Function `plot_confusion_matrix` is deprecated in 1.0 and will be removed in 1.2. Use one of the class methods: ConfusionMatrixDisplay.from_predictions or ConfusionMatrixDisplay.from_estimator.\n",
            "  warnings.warn(msg, category=FutureWarning)\n"
          ]
        },
        {
          "data": {
            "image/png": "[encoded data removed]",
            "text/plain": [
              "<Figure size 432x288 with 2 Axes>"
            ]
          },
          "metadata": {
            "needs_background": "light"
          },
          "output_type": "display_data"
        },
        {
          "name": "stdout",
          "output_type": "stream",
          "text": [
            "score:  0.8025415444770283\n"
          ]
        },
        {
          "name": "stderr",
          "output_type": "stream",
          "text": [
            "/usr/local/lib/python3.7/dist-packages/sklearn/ensemble/_gb.py:494: DataConversionWarning: A column-vector y was passed when a 1d array was expected. Please change the shape of y to (n_samples, ), for example using ravel().\n",
            "  y = column_or_1d(y, warn=True)\n",
            "/usr/local/lib/python3.7/dist-packages/sklearn/utils/deprecation.py:87: FutureWarning: Function plot_confusion_matrix is deprecated; Function `plot_confusion_matrix` is deprecated in 1.0 and will be removed in 1.2. Use one of the class methods: ConfusionMatrixDisplay.from_predictions or ConfusionMatrixDisplay.from_estimator.\n",
            "  warnings.warn(msg, category=FutureWarning)\n"
          ]
        },
        {
          "data": {
            "image/png": "[encoded data removed]",
            "text/plain": [
              "<Figure size 432x288 with 2 Axes>"
            ]
          },
          "metadata": {
            "needs_background": "light"
          },
          "output_type": "display_data"
        },
        {
          "name": "stdout",
          "output_type": "stream",
          "text": [
            "score:  0.7771260997067448\n"
          ]
        },
        {
          "data": {
            "text/plain": [
              "[0.7822265625,\n",
              " 0.791015625,\n",
              " 0.7761485826001955,\n",
              " 0.8025415444770283,\n",
              " 0.7771260997067448]"
            ]
          },
          "execution_count": 176,
          "metadata": {},
          "output_type": "execute_result"
        }
      ],
      "source": [
        "scores = []\n",
        "kf = KFold(n_splits=5, shuffle=True)\n",
        "clf = GradientBoostingClassifier(n_estimators=300, learning_rate=0.02,max_depth=5, random_state=82)\n",
        "\n",
        "for train_idx, test_idx in kf.split(x_select):\n",
        "    x_train = x_select[train_idx]\n",
        "    y_train = y_select[train_idx]\n",
        "    x_test = x_select[test_idx]\n",
        "    y_test = y_select[test_idx]\n",
        "    clf.fit(x_train,y_train)\n",
        "    y_pred = clf.predict(x_test)\n",
        "    s = f1_score(y_test, y_pred, average='micro')\n",
        "    plot_confusion_matrix(clf,x_test,y_test)\n",
        "    plt.show()\n",
        "    print('score: ', s)\n",
        "    scores.append(s)\n",
        "\n",
        "scores"
      ]
    },
    {
      "cell_type": "code",
      "execution_count": 177,
      "metadata": {
        "colab": {
          "base_uri": "https://localhost:8080/"
        },
        "id": "L87EMXbhmcy4",
        "outputId": "eb2f555d-5fd5-4e86-dccc-4605ab522c8f"
      },
      "outputs": [
        {
          "name": "stdout",
          "output_type": "stream",
          "text": [
            "0.7858116828567938\n"
          ]
        }
      ],
      "source": [
        "print(np.mean(scores))"
      ]
    },
    {
      "cell_type": "code",
      "execution_count": 185,
      "metadata": {
        "colab": {
          "base_uri": "https://localhost:8080/"
        },
        "id": "SjzJJqUfEsxc",
        "outputId": "c61847af-e6cd-4983-c9d2-5954a9215c33"
      },
      "outputs": [
        {
          "name": "stderr",
          "output_type": "stream",
          "text": [
            "/usr/local/lib/python3.7/dist-packages/sklearn/ensemble/_gb.py:494: DataConversionWarning: A column-vector y was passed when a 1d array was expected. Please change the shape of y to (n_samples, ), for example using ravel().\n",
            "  y = column_or_1d(y, warn=True)\n"
          ]
        },
        {
          "data": {
            "text/plain": [
              "array([0, 2, 0, ..., 0, 0, 1])"
            ]
          },
          "execution_count": 185,
          "metadata": {},
          "output_type": "execute_result"
        }
      ],
      "source": [
        "clf = GradientBoostingClassifier(n_estimators=300, learning_rate=0.02,max_depth=5, random_state=82)\n",
        "clf.fit(x_select,y_select)\n",
        "predictions = clf.predict(x_test_select)\n",
        "predictions"
      ]
    },
    {
      "cell_type": "code",
      "execution_count": 193,
      "metadata": {
        "id": "OkNrDiJ9FHP3"
      },
      "outputs": [],
      "source": [
        "pd.DataFrame(list(zip(test_x[\"id\"],predictions)), columns = [\"id\",\"y\"]).to_csv(\"gdrive/My Drive/aml_project2/data/samples.csv\",index = False)"
      ]
    },
    {
      "cell_type": "code",
      "execution_count": 172,
      "metadata": {
        "colab": {
          "base_uri": "https://localhost:8080/"
        },
        "id": "Ch8-HIjWsIkr",
        "outputId": "ef8f4c7c-c309-44f7-d9a1-0052c76f712d"
      },
      "outputs": [
        {
          "name": "stderr",
          "output_type": "stream",
          "text": [
            "/usr/local/lib/python3.7/dist-packages/sklearn/utils/validation.py:985: DataConversionWarning: A column-vector y was passed when a 1d array was expected. Please change the shape of y to (n_samples, ), for example using ravel().\n",
            "  y = column_or_1d(y, warn=True)\n"
          ]
        },
        {
          "name": "stdout",
          "output_type": "stream",
          "text": [
            "score:  0.7705078125\n"
          ]
        },
        {
          "name": "stderr",
          "output_type": "stream",
          "text": [
            "/usr/local/lib/python3.7/dist-packages/sklearn/utils/validation.py:985: DataConversionWarning: A column-vector y was passed when a 1d array was expected. Please change the shape of y to (n_samples, ), for example using ravel().\n",
            "  y = column_or_1d(y, warn=True)\n"
          ]
        },
        {
          "name": "stdout",
          "output_type": "stream",
          "text": [
            "score:  0.7587890625\n"
          ]
        },
        {
          "name": "stderr",
          "output_type": "stream",
          "text": [
            "/usr/local/lib/python3.7/dist-packages/sklearn/utils/validation.py:985: DataConversionWarning: A column-vector y was passed when a 1d array was expected. Please change the shape of y to (n_samples, ), for example using ravel().\n",
            "  y = column_or_1d(y, warn=True)\n"
          ]
        },
        {
          "name": "stdout",
          "output_type": "stream",
          "text": [
            "score:  0.7341153470185728\n"
          ]
        },
        {
          "name": "stderr",
          "output_type": "stream",
          "text": [
            "/usr/local/lib/python3.7/dist-packages/sklearn/utils/validation.py:985: DataConversionWarning: A column-vector y was passed when a 1d array was expected. Please change the shape of y to (n_samples, ), for example using ravel().\n",
            "  y = column_or_1d(y, warn=True)\n"
          ]
        },
        {
          "name": "stdout",
          "output_type": "stream",
          "text": [
            "score:  0.7585532746823069\n"
          ]
        },
        {
          "name": "stderr",
          "output_type": "stream",
          "text": [
            "/usr/local/lib/python3.7/dist-packages/sklearn/utils/validation.py:985: DataConversionWarning: A column-vector y was passed when a 1d array was expected. Please change the shape of y to (n_samples, ), for example using ravel().\n",
            "  y = column_or_1d(y, warn=True)\n"
          ]
        },
        {
          "name": "stdout",
          "output_type": "stream",
          "text": [
            "score:  0.7331378299120236\n",
            "[0.7705078125, 0.7587890625, 0.7341153470185728, 0.7585532746823069, 0.7331378299120236]\n",
            "0.7510206653225808\n"
          ]
        }
      ],
      "source": [
        "scores = []\n",
        "kf = KFold(n_splits=5, shuffle=True)\n",
        "clf = SVC()\n",
        "\n",
        "for train_idx, test_idx in kf.split(x_select):\n",
        "    x_train = x_select[train_idx]\n",
        "    y_train = y_select[train_idx]\n",
        "    x_test = x_select[test_idx]\n",
        "    y_test = y_select[test_idx]\n",
        "    clf.fit(x_train,y_train)\n",
        "    y_pred = clf.predict(x_test)\n",
        "    s = f1_score(y_test, y_pred, average='micro')\n",
        "    #plot_confusion_matrix(clf,x_test,y_test)\n",
        "    plt.show()\n",
        "    print('score: ', s)\n",
        "    scores.append(s)\n",
        "\n",
        "print(scores)\n",
        "print(np.mean(scores))"
      ]
    }
  ],
  "metadata": {
    "colab": {
      "collapsed_sections": [],
      "name": "Feature_extraction_33_version1.ipynb",
      "provenance": []
    },
    "kernelspec": {
      "display_name": "Python 3",
      "name": "python3"
    },
    "language_info": {
      "codemirror_mode": {
        "name": "ipython",
        "version": 3
      },
      "file_extension": ".py",
      "mimetype": "text/x-python",
      "name": "python",
      "nbconvert_exporter": "python",
      "pygments_lexer": "ipython3",
      "version": "3.8.9"
    }
  },
  "nbformat": 4,
  "nbformat_minor": 0
}
